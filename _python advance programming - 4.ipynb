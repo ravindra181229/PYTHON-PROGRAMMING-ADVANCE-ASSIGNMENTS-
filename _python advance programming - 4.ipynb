{
 "cells": [
  {
   "cell_type": "markdown",
   "id": "2a95b09c",
   "metadata": {},
   "source": [
    "# PYTHON ADVANCE PROGRAMMING ASSIGNMENT - 4"
   ]
  },
  {
   "cell_type": "code",
   "execution_count": 12,
   "id": "4a2b7f9b",
   "metadata": {},
   "outputs": [],
   "source": [
    "#q1\n",
    "#program to return nth element in fibonacci series\n",
    "import logging as lg\n",
    "def fib_fast(num):\n",
    "    try:\n",
    "        lg.info(\"Input : {}\".format(num))\n",
    "        \n",
    "        a = 0\n",
    "        b = 1\n",
    "        \n",
    "        if num == 0:\n",
    "            return a\n",
    "        \n",
    "        n = num\n",
    "        \n",
    "        while n > 1:\n",
    "            c = a + b\n",
    "            a = b\n",
    "            b = c\n",
    "            \n",
    "            n = n - 1\n",
    "        \n",
    "        return b\n",
    "            \n",
    "        \n",
    "    except Exception as e:\n",
    "        print(\"Check logs\")\n",
    "        lg.error(\"Error occured\")\n",
    "        lg.exception(e)"
   ]
  },
  {
   "cell_type": "code",
   "execution_count": 13,
   "id": "2752abc9",
   "metadata": {},
   "outputs": [
    {
     "name": "stdout",
     "output_type": "stream",
     "text": [
      "5\n",
      "55\n",
      "6765\n",
      "12586269025\n"
     ]
    }
   ],
   "source": [
    "#Q1\n",
    "print(fib_fast(5))\n",
    "print(fib_fast(10))\n",
    "print(fib_fast(20))\n",
    "print(fib_fast(50))"
   ]
  },
  {
   "cell_type": "code",
   "execution_count": 16,
   "id": "705c4146",
   "metadata": {},
   "outputs": [
    {
     "name": "stdout",
     "output_type": "stream",
     "text": [
      "68 65 6c 6c 6f 20 77 6f 72 6c 64 \n",
      "42 69 67 20 42 6f 69 \n",
      "4d 61 72 74 79 20 50 6f 70 70 69 6e 73 6f 6e \n"
     ]
    }
   ],
   "source": [
    "#Q2\n",
    "import logging as lg\n",
    "def convert_to_hex(string_inp):\n",
    "    try:\n",
    "        lg.info(\"Input by user: {}\".format(string_inp))\n",
    "        \n",
    "        hex_val = \"\"\n",
    "\n",
    "        for i in string_inp:\n",
    "            hex_val += hex(ord(i)).split('0x')[1]\n",
    "            hex_val += \" \"\n",
    "        \n",
    "        return hex_val\n",
    "        \n",
    "    except Exception as e:\n",
    "        print(\"Chec errors\")\n",
    "        lg.error(\"Error occured\")\n",
    "        lg.exception(e)\n",
    "        \n",
    "print(convert_to_hex(\"hello world\"))\n",
    "print(convert_to_hex(\"Big Boi\"))\n",
    "print(convert_to_hex(\"Marty Poppinson\"))"
   ]
  },
  {
   "cell_type": "code",
   "execution_count": 24,
   "id": "2822d22f",
   "metadata": {},
   "outputs": [
    {
     "name": "stdout",
     "output_type": "stream",
     "text": [
      "Where did my vowels go?\n",
      "abcd\n",
      "UPPERCASE\n"
     ]
    }
   ],
   "source": [
    "#Q3\n",
    "import logging as lg\n",
    "def uncensor(censored_string, censored_vowels):\n",
    "    try:\n",
    "        lg.info(\"Input, censored string {}, censored vowels string  {}\".format(censored_string,\n",
    "                                                                                        censored_vowels))\n",
    "        \n",
    "        if not censored_string.count('*') == len(censored_vowels):\n",
    "            print(\"missing vowels and censored vowels are not same in length, the returned censored string as is\")\n",
    "            return censored_string\n",
    "        \n",
    "        uncensored_string = \"\"\n",
    "        i = 0\n",
    "        for j in censored_string:\n",
    "            if j == \"*\":\n",
    "                uncensored_string += censored_vowels[i]\n",
    "                i += 1\n",
    "            else:\n",
    "                uncensored_string += j\n",
    "        \n",
    "        return uncensored_string\n",
    "        \n",
    "    except Exception as e:\n",
    "        print(\"Check logs for error\")\n",
    "        lg.error(\"Error occured here\")\n",
    "        lg.exception(e)\n",
    "        \n",
    "print(uncensor(\"Wh*r* d*d my v*w*ls g*?\", \"eeioeo\"))\n",
    "print(uncensor(\"abcd\", \"\"))\n",
    "print(uncensor(\"*PP*RC*S*\", \"UEAE\"))"
   ]
  },
  {
   "cell_type": "code",
   "execution_count": 28,
   "id": "5443361e",
   "metadata": {},
   "outputs": [
    {
     "name": "stdout",
     "output_type": "stream",
     "text": [
      "dns.google\n",
      "dns.google\n"
     ]
    }
   ],
   "source": [
    "#Q4\n",
    "import logging as lg\n",
    "import socket\n",
    "def get_domain(input_IP_address):\n",
    "    try:\n",
    "        lg.info(\"Input {}\".format(input_IP_address))\n",
    "        \n",
    "        return socket.gethostbyaddr(input_IP_address)[0]\n",
    "        \n",
    "    except Exception as e:\n",
    "        print(\"Check errors in log\")\n",
    "        lg.error(\"Error occured\")\n",
    "        lg.exception(e)\n",
    "print(get_domain(\"8.8.8.8\"))\n",
    "print(get_domain(\"8.8.4.4\"))"
   ]
  },
  {
   "cell_type": "code",
   "execution_count": 37,
   "id": "875db0e5",
   "metadata": {},
   "outputs": [
    {
     "name": "stdout",
     "output_type": "stream",
     "text": [
      "288\n",
      "34560\n",
      "24883200\n"
     ]
    }
   ],
   "source": [
    "#Q5\n",
    "import logging as lg\n",
    "def fact_of_fact(input_number):\n",
    "    try:\n",
    "        lg.info(\"Input {}\".format(input_number))\n",
    "        \n",
    "        total = 1\n",
    "\n",
    "        for num in range(1, input_number + 1):\n",
    "\n",
    "            temp = 1\n",
    "            for i in range(1,num + 1):\n",
    "                temp *= i\n",
    "\n",
    "            total *= temp\n",
    "        \n",
    "        return total\n",
    "        \n",
    "    except Exception as e:\n",
    "        print(\"Check errors in log\")\n",
    "        lg.error(\"Error occured\")\n",
    "        lg.exception(e)\n",
    "\n",
    "print(fact_of_fact(4))\n",
    "print(fact_of_fact(5))\n",
    "print(fact_of_fact(6))"
   ]
  },
  {
   "cell_type": "code",
   "execution_count": null,
   "id": "4c9d857c",
   "metadata": {},
   "outputs": [],
   "source": []
  }
 ],
 "metadata": {
  "kernelspec": {
   "display_name": "Python 3",
   "language": "python",
   "name": "python3"
  },
  "language_info": {
   "codemirror_mode": {
    "name": "ipython",
    "version": 3
   },
   "file_extension": ".py",
   "mimetype": "text/x-python",
   "name": "python",
   "nbconvert_exporter": "python",
   "pygments_lexer": "ipython3",
   "version": "3.8.8"
  }
 },
 "nbformat": 4,
 "nbformat_minor": 5
}
