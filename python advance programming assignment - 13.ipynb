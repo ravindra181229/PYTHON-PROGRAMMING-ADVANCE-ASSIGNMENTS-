{
 "cells": [
  {
   "cell_type": "markdown",
   "id": "9c8d44e2",
   "metadata": {},
   "source": [
    "# Python Advance Programming Assignment - 13"
   ]
  },
  {
   "cell_type": "code",
   "execution_count": 11,
   "id": "c39eca46",
   "metadata": {},
   "outputs": [
    {
     "name": "stdout",
     "output_type": "stream",
     "text": [
      "['w']\n",
      "['b', 'g', 'w']\n",
      "[]\n"
     ]
    }
   ],
   "source": [
    "#Q1\n",
    "def remove_letters(list_input, string_inpput):\n",
    "    \n",
    "        temp = [i for i in list_input]\n",
    "        \n",
    "        for i in string_inpput:\n",
    "            if i in temp:\n",
    "                temp.remove(i)\n",
    "\n",
    "        return temp\n",
    "print(remove_letters([\"s\", \"t\", \"r\", \"i\", \"n\", \"g\", \"w\"], \"string\"))\n",
    "print(remove_letters([\"b\", \"b\", \"l\", \"l\", \"g\", \"n\", \"o\", \"a\", \"w\"], \"balloon\"))\n",
    "print(remove_letters([\"d\", \"b\", \"t\", \"e\", \"a\", \"i\"], \"edabit\"))"
   ]
  },
  {
   "cell_type": "code",
   "execution_count": 16,
   "id": "9aa0b4d8",
   "metadata": {},
   "outputs": [
    {
     "name": "stdout",
     "output_type": "stream",
     "text": [
      "4\n",
      "20\n",
      "0\n"
     ]
    }
   ],
   "source": [
    "#Q3\n",
    "def my_sub(num1, num2):\n",
    "    \n",
    "    try:        \n",
    "        if num1 > num2:\n",
    "            print(\"first number should be less than second\")\n",
    "            return 0\n",
    "        \n",
    "        if num1 == num2:\n",
    "            return 0\n",
    "        \n",
    "        l1 = list(range(1, num2+1))\n",
    "        len_l1 = len(l1)\n",
    "        \n",
    "        for i in range(num1):\n",
    "            continue\n",
    "        else:\n",
    "            return l1[len_l1 - i - 2]\n",
    "        \n",
    "    except Exception as e:\n",
    "        print(e)\n",
    "        \n",
    "print(my_sub(5,9))\n",
    "print(my_sub(10,30))\n",
    "print(my_sub(0,0))"
   ]
  },
  {
   "cell_type": "code",
   "execution_count": 6,
   "id": "d0d3144b",
   "metadata": {},
   "outputs": [
    {
     "name": "stdout",
     "output_type": "stream",
     "text": [
      "70\n",
      "170\n",
      "2200\n"
     ]
    }
   ],
   "source": [
    "#Q4\n",
    "import re\n",
    "def add_bill(string_input):\n",
    "    try:        \n",
    "        if not bool(re.findall('[dD]\\d+k?', string_input)):\n",
    "            print(\"no dollar in string\")\n",
    "            return 0\n",
    "        \n",
    "        sum_val = 0\n",
    "\n",
    "        for i in re.findall('[dD]\\d+k?', string_input):\n",
    "            val = re.split('d', i)[1]\n",
    "            if val.endswith('k'):\n",
    "                val = re.split('k', val)[0] + '000'\n",
    "            \n",
    "            \n",
    "            sum_val += int(val)\n",
    "            \n",
    "        return sum_val\n",
    "        \n",
    "    except Exception as e:\n",
    "        print(e)\n",
    "        \n",
    "print(add_bill(\"d20,p40,p60,d50\"))\n",
    "print(add_bill(\"p30,d20,p60,d150,p360\"))\n",
    "print(add_bill(\"p30,d2k,p60,d200,p360\"))"
   ]
  },
  {
   "cell_type": "code",
   "execution_count": 8,
   "id": "6ba0c953",
   "metadata": {},
   "outputs": [
    {
     "name": "stdout",
     "output_type": "stream",
     "text": [
      "[[1], [2], [3], [4]]\n",
      "[5, 6, 9]\n",
      "[]\n"
     ]
    }
   ],
   "source": [
    "#Q5\n",
    "def flip_list(list_input):\n",
    "    try:        \n",
    "        return_list = []\n",
    "        \n",
    "        for i in list_input:\n",
    "            if type(i) == list:\n",
    "                return_list.append(i[0])\n",
    "            else:\n",
    "                return_list.append([i])\n",
    "        \n",
    "        return return_list\n",
    "\n",
    "    except Exception as e:\n",
    "        print(e)\n",
    "        \n",
    "print(flip_list([1, 2, 3, 4]))\n",
    "print(flip_list([[5], [6], [9]]))\n",
    "print(flip_list([]))"
   ]
  },
  {
   "cell_type": "code",
   "execution_count": null,
   "id": "c7325df8",
   "metadata": {},
   "outputs": [],
   "source": []
  }
 ],
 "metadata": {
  "kernelspec": {
   "display_name": "Python 3",
   "language": "python",
   "name": "python3"
  },
  "language_info": {
   "codemirror_mode": {
    "name": "ipython",
    "version": 3
   },
   "file_extension": ".py",
   "mimetype": "text/x-python",
   "name": "python",
   "nbconvert_exporter": "python",
   "pygments_lexer": "ipython3",
   "version": "3.8.8"
  }
 },
 "nbformat": 4,
 "nbformat_minor": 5
}
