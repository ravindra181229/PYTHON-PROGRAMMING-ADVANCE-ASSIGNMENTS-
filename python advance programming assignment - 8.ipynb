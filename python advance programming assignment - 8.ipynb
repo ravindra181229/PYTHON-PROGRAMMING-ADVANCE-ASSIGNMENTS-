{
 "cells": [
  {
   "cell_type": "markdown",
   "id": "ec14b544",
   "metadata": {},
   "source": [
    "# python advance programming assignment - 8"
   ]
  },
  {
   "cell_type": "code",
   "execution_count": 4,
   "id": "daf97032",
   "metadata": {},
   "outputs": [
    {
     "name": "stdout",
     "output_type": "stream",
     "text": [
      "True\n",
      "True\n",
      "False\n",
      "False\n"
     ]
    }
   ],
   "source": [
    "#Q1\n",
    "'''this program takes string input and returns True if any two adjacent words have this property: \n",
    "one ends with vowel and other starts or begins with vowel'''\n",
    "import re\n",
    "def vowel_links(sentence):\n",
    "    try:\n",
    "        \n",
    "        return bool(re.findall(r\"[aioue] +[aioue]\", sentence))\n",
    "        \n",
    "    except Exception as e:\n",
    "        print(e)\n",
    "        \n",
    "print(vowel_links(\"a very large appliance\"))\n",
    "print(vowel_links(\"go to edabit\"))\n",
    "print(vowel_links(\"an open fire\"))\n",
    "print(vowel_links(\"a sudden applause\"))"
   ]
  },
  {
   "cell_type": "code",
   "execution_count": 1,
   "id": "e10627f6",
   "metadata": {},
   "outputs": [
    {
     "name": "stdout",
     "output_type": "stream",
     "text": [
      "True\n",
      "True\n",
      "False\n",
      "False\n"
     ]
    }
   ],
   "source": [
    "#Q2\n",
    "'''this program has 3 inputs \n",
    "it returns true if instance of first letter occurs before second letter or else it will return false'''\n",
    "def first_before_second(string, first_letter, second_letter):\n",
    "    try:\n",
    "        last_instance_of_first_letter_idx = len(string) - string[::-1].index(first_letter) - 1\n",
    "        \n",
    "        if last_instance_of_first_letter_idx < string.index(second_letter):\n",
    "            return True\n",
    "        else:\n",
    "            return False\n",
    "        \n",
    "    except Exception as e:\n",
    "        print(e)\n",
    "        \n",
    "print(first_before_second(\"a rabbit jumps joyfully\", \"a\", \"j\"))\n",
    "print(first_before_second(\"knaves knew about waterfalls\", \"k\", \"w\"))\n",
    "print(first_before_second(\"happy birthday\", \"a\", \"y\"))\n",
    "print(first_before_second(\"precarious kangaroos\", \"k\", \"a\"))"
   ]
  },
  {
   "cell_type": "code",
   "execution_count": 15,
   "id": "8ca2e7dc",
   "metadata": {},
   "outputs": [
    {
     "name": "stdout",
     "output_type": "stream",
     "text": [
      "[4, 8]\n",
      "EAI\n",
      "['A', 'B', 'T', 'A', 'I', 'Y']\n"
     ]
    }
   ],
   "source": [
    "#Q3\n",
    "'''this program Creates a function which returns the characters from a list or string r on odd or even positions, depending on the specifier s. \n",
    "The specifier will be \"odd\" for items on odd positions (1, 3, 5, ...) and \"even\" for items on even positions (2, 4, 6, ...).'''\n",
    "def char_at_pos(input_list_or_string, specifier):\n",
    "    try:\n",
    "        if not (specifier == \"odd\" or specifier == \"even\"):\n",
    "            print(\"specifier can only be odd or even in lower case\")\n",
    "            return None\n",
    "        \n",
    "        if specifier == \"odd\":\n",
    "            \n",
    "            if type(input_list_or_string) == list:\n",
    "                \n",
    "                return_list = [input_list_or_string[i] for i in range(len(input_list_or_string)) if (i+1) % 2 == 1]\n",
    "                \n",
    "                return return_list\n",
    "            \n",
    "            else:\n",
    "                \n",
    "                return_string = \"\".join([input_list_or_string[i] for i in range(len(input_list_or_string)) \n",
    "                                         if (i+1) % 2 == 1])\n",
    "                \n",
    "                return return_string\n",
    "            \n",
    "        else:\n",
    "            \n",
    "            if type(input_list_or_string) == list:\n",
    "                \n",
    "                return_list = [input_list_or_string[i] for i in range(len(input_list_or_string)) if (i+1) % 2 == 0]\n",
    "                \n",
    "                return return_list\n",
    "            \n",
    "            else:\n",
    "                \n",
    "                return_string = \"\".join([input_list_or_string[i] for i in range(len(input_list_or_string)) \n",
    "                                         if (i+1) % 2 == 0])\n",
    "                \n",
    "                return return_string\n",
    "        \n",
    "    except Exception as e:\n",
    "        print(e)\n",
    "\n",
    "print(char_at_pos([2, 4, 6, 8, 10], \"even\") )\n",
    "print(char_at_pos(\"EDABIT\", \"odd\") )\n",
    "print(char_at_pos([\"A\", \"R\", \"B\", \"I\", \"T\", \"R\", \"A\", \"R\", \"I\", \"L\", \"Y\"], \"odd\"))"
   ]
  },
  {
   "cell_type": "code",
   "execution_count": 5,
   "id": "85bd18cf",
   "metadata": {},
   "outputs": [],
   "source": [
    "#Q4\n",
    "def is_prime(num):\n",
    "    if num == 2:\n",
    "        return True\n",
    "    \n",
    "    for i in range(2, int(num / 2) + 1):\n",
    "        if num % i == 0:\n",
    "            return False\n",
    "    else:\n",
    "        return True\n",
    "def prime_divisors(num):\n",
    "    \n",
    "    if num == 2:\n",
    "        return [2]\n",
    "    \n",
    "    prime_div_list = []\n",
    "    \n",
    "    \n",
    "    for i in range(2, int(num / 2) + 1):\n",
    "        if is_prime(i):\n",
    "            if num % i == 0:\n",
    "                prime_div_list.append(i)\n",
    "                prime_div_list += prime_divisors(int(num / i))\n",
    "                break\n",
    "    \n",
    "    if len(prime_div_list) == 0:\n",
    "        prime_div_list.append(num)\n",
    "    \n",
    "    return prime_div_list"
   ]
  },
  {
   "cell_type": "code",
   "execution_count": 6,
   "id": "849cbb26",
   "metadata": {},
   "outputs": [
    {
     "name": "stdout",
     "output_type": "stream",
     "text": [
      "10\n",
      "1\n",
      "64\n"
     ]
    }
   ],
   "source": [
    "#Q4\n",
    "def GCD(list_of_num):\n",
    "    \n",
    "    prime_div_list_of_lists = []\n",
    "    \n",
    "    for num in list_of_num:\n",
    "        prime_div_list_of_lists.append(prime_divisors(num))\n",
    "    \n",
    "    common_list = prime_div_list_of_lists[0]\n",
    "\n",
    "    for i in range(len(prime_div_list_of_lists) - 1):\n",
    "        list1 = common_list\n",
    "        list2 = prime_div_list_of_lists[i+1]\n",
    "\n",
    "        overlap_list = []\n",
    "\n",
    "        for element in list1:\n",
    "            if element in list2:\n",
    "                overlap_list.append(element)\n",
    "                list2.remove(element)\n",
    "\n",
    "        common_list = overlap_list\n",
    "    \n",
    "    gcd_val = 1\n",
    "    \n",
    "    for i in common_list:\n",
    "        gcd_val *= i\n",
    "    \n",
    "    return gcd_val\n",
    "\n",
    "print(GCD([10, 20, 40]))\n",
    "print(GCD([1, 2, 3, 100]))\n",
    "print(GCD([1024, 192, 2048, 512]))"
   ]
  },
  {
   "cell_type": "code",
   "execution_count": 16,
   "id": "aa030565",
   "metadata": {},
   "outputs": [],
   "source": [
    "#Q5\n",
    "def binary(num): \n",
    "    try:\n",
    "        q = num\n",
    "        binary_list = []\n",
    "        \n",
    "        while q > 0:\n",
    "            binary_list.append(q % 2)\n",
    "            \n",
    "            q = int(q / 2)\n",
    "        \n",
    "        binary_list = binary_list[::-1]\n",
    "        \n",
    "        return binary_list\n",
    "        \n",
    "    except Exception as e:\n",
    "        print(e)"
   ]
  },
  {
   "cell_type": "code",
   "execution_count": 17,
   "id": "1b09440e",
   "metadata": {},
   "outputs": [
    {
     "name": "stdout",
     "output_type": "stream",
     "text": [
      "Decimal only.\n",
      "Binary only.\n",
      "Decimal and binary.\n",
      "Neither!\n"
     ]
    }
   ],
   "source": [
    "#Q5\n",
    "def palindrome_type(num):\n",
    "    \n",
    "    try:\n",
    "        \n",
    "        binary_val = binary(num)\n",
    "        \n",
    "        if str(num) == str(num)[::-1] and binary_val == binary_val[::-1]:\n",
    "            \n",
    "            return \"Decimal and binary.\"\n",
    "        \n",
    "        elif str(num) == str(num)[::-1] and not binary_val == binary_val[::-1]:\n",
    "            \n",
    "            return \"Decimal only.\"\n",
    "        \n",
    "        elif not str(num) == str(num)[::-1] and binary_val == binary_val[::-1]:\n",
    "            \n",
    "            return \"Binary only.\"\n",
    "        \n",
    "        else:\n",
    "            \n",
    "            return \"Neither!\"\n",
    "        \n",
    "    except Exception as e:\n",
    "        print(e)\n",
    "        \n",
    "print(palindrome_type(1306031) )\n",
    "print(palindrome_type(427787))\n",
    "print(palindrome_type(313))\n",
    "print(palindrome_type(934))"
   ]
  },
  {
   "cell_type": "code",
   "execution_count": null,
   "id": "c5ee9286",
   "metadata": {},
   "outputs": [],
   "source": []
  }
 ],
 "metadata": {
  "kernelspec": {
   "display_name": "Python 3",
   "language": "python",
   "name": "python3"
  },
  "language_info": {
   "codemirror_mode": {
    "name": "ipython",
    "version": 3
   },
   "file_extension": ".py",
   "mimetype": "text/x-python",
   "name": "python",
   "nbconvert_exporter": "python",
   "pygments_lexer": "ipython3",
   "version": "3.8.8"
  }
 },
 "nbformat": 4,
 "nbformat_minor": 5
}
