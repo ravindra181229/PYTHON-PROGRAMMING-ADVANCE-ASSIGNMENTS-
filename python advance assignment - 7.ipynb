{
 "cells": [
  {
   "cell_type": "markdown",
   "id": "bf16f5c7",
   "metadata": {},
   "source": [
    "# python advance assignment - 7"
   ]
  },
  {
   "cell_type": "code",
   "execution_count": 3,
   "id": "22108820",
   "metadata": {},
   "outputs": [],
   "source": [
    "#Q1\n",
    "def count_layers(rug_layers):\n",
    "    \n",
    "    try:\n",
    "        if not type(rug_layers) == list:\n",
    "            print(\"Input should be a list\")\n",
    "            return None\n",
    "        \n",
    "        for i in range(len(rug_layers) - 1):\n",
    "            if not len(rug_layers[i]) == len(rug_layers[i+1]):\n",
    "                print(\"All elements of the input should be the length of same\")\n",
    "                return None\n",
    "        \n",
    "        rug_width = len(rug_layers)\n",
    "        rug_length = len(rug_layers[0])\n",
    "        \n",
    "        min_width_length = min(rug_width, rug_length)\n",
    "        \n",
    "        if not min_width_length % 2 == 1:\n",
    "            print(\"\"\"Minimum of the 2 dimension - length and width must be odd for a rug to be a properly layered rug\"\"\")\n",
    "            return None\n",
    "        \n",
    "        num_of_layers = int((min_width_length + 1) / 2)\n",
    "        \n",
    "        return num_of_layers\n",
    "        \n",
    "    except Exception as e:\n",
    "        print(e)"
   ]
  },
  {
   "cell_type": "code",
   "execution_count": 4,
   "id": "5e513517",
   "metadata": {},
   "outputs": [
    {
     "data": {
      "text/plain": [
       "2"
      ]
     },
     "execution_count": 4,
     "metadata": {},
     "output_type": "execute_result"
    }
   ],
   "source": [
    "#q1\n",
    "count_layers([\n",
    "  \"AAAA\",\n",
    "  \"ABBA\",\n",
    "  \"AAAA\"\n",
    "]) "
   ]
  },
  {
   "cell_type": "code",
   "execution_count": 5,
   "id": "a5fa9867",
   "metadata": {},
   "outputs": [
    {
     "data": {
      "text/plain": [
       "3"
      ]
     },
     "execution_count": 5,
     "metadata": {},
     "output_type": "execute_result"
    }
   ],
   "source": [
    "#Q1\n",
    "count_layers([\n",
    "  \"AAAAAAAAA\",\n",
    "  \"ABBBBBBBA\",\n",
    "  \"ABBAAABBA\",\n",
    "  \"ABBBBBBBA\",\n",
    "  \"AAAAAAAAA\"\n",
    "]) "
   ]
  },
  {
   "cell_type": "code",
   "execution_count": 6,
   "id": "cbadafd6",
   "metadata": {},
   "outputs": [
    {
     "data": {
      "text/plain": [
       "5"
      ]
     },
     "execution_count": 6,
     "metadata": {},
     "output_type": "execute_result"
    }
   ],
   "source": [
    "#Q1\n",
    "count_layers([\n",
    "  \"AAAAAAAAAAA\",\n",
    "  \"AABBBBBBBAA\",\n",
    "  \"AABCCCCCBAA\",\n",
    "  \"AABCAAACBAA\",\n",
    "  \"AABCADACBAA\",\n",
    "  \"AABCAAACBAA\",\n",
    "  \"AABCCCCCBAA\",\n",
    "  \"AABBBBBBBAA\",\n",
    "  \"AAAAAAAAAAA\"\n",
    "])"
   ]
  },
  {
   "cell_type": "code",
   "execution_count": 12,
   "id": "6d406d90",
   "metadata": {},
   "outputs": [
    {
     "name": "stdout",
     "output_type": "stream",
     "text": [
      "9\n",
      "7\n"
     ]
    }
   ],
   "source": [
    "#Q2\n",
    "import re\n",
    "def unique_styles(styles):\n",
    "    try:\n",
    "        unique_list = []\n",
    "        for album in styles:\n",
    "            temp = re.split(\",\", album)\n",
    "            for i in temp:\n",
    "                if not i in unique_list:\n",
    "                    unique_list.append(i)\n",
    "        return len(unique_list)    \n",
    "        \n",
    "    except Exception as e:\n",
    "        print(e)\n",
    "        \n",
    "print(unique_styles([\n",
    "  \"Dub,Dancehall\",\n",
    "  \"Industrial,Heavy Metal\",\n",
    "  \"Techno,Dubstep\",\n",
    "  \"Synth-pop,Euro-Disco\",\n",
    "  \"Industrial,Techno,Minimal\"\n",
    "]) )\n",
    "\n",
    "print(unique_styles([\n",
    "  \"Soul\",\n",
    "  \"House,Folk\",\n",
    "  \"Trance,Downtempo,Big Beat,House\",\n",
    "  \"Deep House\",\n",
    "  \"Soul\"\n",
    "]))"
   ]
  },
  {
   "cell_type": "code",
   "execution_count": 4,
   "id": "b6dd68ee",
   "metadata": {},
   "outputs": [],
   "source": [
    "#Q3\n",
    "def is_prime(list_of_primes, target_number):\n",
    "    try:        \n",
    "        len_list = len(list_of_primes)\n",
    "        \n",
    "        if len_list % 2 == 0:\n",
    "            \n",
    "            if list_of_primes[int(len_list / 2)] == target_number:\n",
    "                return \"yes\"\n",
    "            \n",
    "            elif list_of_primes[int(len_list / 2) - 1] == target_number:\n",
    "                return \"yes\"\n",
    "            \n",
    "            elif len_list == 2:\n",
    "                return \"no\"\n",
    "            \n",
    "            elif list_of_primes[int(len_list / 2)] > target_number:\n",
    "                return is_prime(list_of_primes[:int(len_list / 2)], target_number)\n",
    "            \n",
    "            else:\n",
    "                return is_prime(list_of_primes[int(len_list / 2):], target_number)\n",
    "\n",
    "        else:\n",
    "            \n",
    "            if list_of_primes[int((len_list - 1) / 2)] == target_number:\n",
    "                return \"yes\"\n",
    "            \n",
    "            elif len_list == 1:\n",
    "                return \"no\"\n",
    "            \n",
    "            elif list_of_primes[int((len_list - 1) / 2)] > target_number:\n",
    "                return is_prime(list_of_primes[:(int((len_list - 1) / 2) - 1)], target_number)\n",
    "            \n",
    "            else:\n",
    "                return is_prime(list_of_primes[(int((len_list - 1) / 2) + 1):], target_number)\n",
    "        \n",
    "    except Exception as e:\n",
    "        print(e)\n",
    "primes = [2, 3, 5, 7, 11, 13, 17, 19, 23, 29, 31, 37, 41, 43, 47, 53, 59, 61, 67, 71, 73, 79, 83, 89, 97]"
   ]
  },
  {
   "cell_type": "code",
   "execution_count": 5,
   "id": "2fcedea5",
   "metadata": {},
   "outputs": [
    {
     "name": "stdout",
     "output_type": "stream",
     "text": [
      "yes\n",
      "no\n",
      "yes\n",
      "no\n"
     ]
    }
   ],
   "source": [
    "#Q3\n",
    "print(is_prime(primes, 3))\n",
    "print(is_prime(primes, 4))\n",
    "print(is_prime(primes, 67))\n",
    "print(is_prime(primes, 36))"
   ]
  },
  {
   "cell_type": "code",
   "execution_count": 15,
   "id": "342474dc",
   "metadata": {},
   "outputs": [
    {
     "name": "stdout",
     "output_type": "stream",
     "text": [
      "2\n",
      "3\n",
      "1\n",
      "1\n",
      "3\n"
     ]
    }
   ],
   "source": [
    "#Q4\n",
    "def power_ranger(n, a, b):\n",
    "    try:\n",
    "        num_values = 0\n",
    "        for i in range(a, b+1):\n",
    "            if int(i ** (1/n)) == (i ** (1/n)):\n",
    "                num_values += 1\n",
    "        \n",
    "        return num_values\n",
    "        \n",
    "    except Exception as e:\n",
    "        print(e)\n",
    "print(power_ranger(2, 49, 65))\n",
    "print(power_ranger(3, 1, 27))\n",
    "print(power_ranger(10, 1, 5))\n",
    "print(power_ranger(5, 31, 33))\n",
    "print(power_ranger(4, 250, 1300))"
   ]
  },
  {
   "cell_type": "code",
   "execution_count": 16,
   "id": "714bacc9",
   "metadata": {},
   "outputs": [
    {
     "name": "stdout",
     "output_type": "stream",
     "text": [
      "760833\n",
      "7709823\n",
      "90981\n"
     ]
    }
   ],
   "source": [
    "#Q5\n",
    "def rearranged_difference(number):\n",
    "    try:\n",
    "        desc_order = sorted(str(number), reverse=True)\n",
    "        \n",
    "        asc_order = sorted(str(number))\n",
    "        \n",
    "        return int(\"\".join(desc_order)) - int(\"\".join(asc_order))\n",
    "        \n",
    "    except Exception as e:\n",
    "        print(e)\n",
    "print(rearranged_difference(972882))\n",
    "print(rearranged_difference(3320707))\n",
    "print(rearranged_difference(90010))"
   ]
  },
  {
   "cell_type": "code",
   "execution_count": null,
   "id": "0d0b01bc",
   "metadata": {},
   "outputs": [],
   "source": []
  }
 ],
 "metadata": {
  "kernelspec": {
   "display_name": "Python 3",
   "language": "python",
   "name": "python3"
  },
  "language_info": {
   "codemirror_mode": {
    "name": "ipython",
    "version": 3
   },
   "file_extension": ".py",
   "mimetype": "text/x-python",
   "name": "python",
   "nbconvert_exporter": "python",
   "pygments_lexer": "ipython3",
   "version": "3.8.8"
  }
 },
 "nbformat": 4,
 "nbformat_minor": 5
}
