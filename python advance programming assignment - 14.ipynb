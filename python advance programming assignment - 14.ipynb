{
 "cells": [
  {
   "cell_type": "markdown",
   "id": "01d98b1a",
   "metadata": {},
   "source": [
    "# Python Advance Programming Assignment - 14"
   ]
  },
  {
   "cell_type": "code",
   "execution_count": 12,
   "id": "d90787c1",
   "metadata": {},
   "outputs": [
    {
     "name": "stdout",
     "output_type": "stream",
     "text": [
      "[3, 3, 3]\n",
      "[12, 7.5, 14.5]\n",
      "[27, 75]\n"
     ]
    }
   ],
   "source": [
    "#Q1\n",
    "def show_the_love(number_of_list):\n",
    "    \n",
    "    try:        \n",
    "        smallest_num = min(number_of_list)\n",
    "        smallest_num_idx = number_of_list.index(smallest_num)\n",
    "        \n",
    "        sum_percent_removed = 0\n",
    "\n",
    "        for i in range(len(number_of_list)):\n",
    "            if not number_of_list[i] == smallest_num:\n",
    "                temp_remove = 0.25 * number_of_list[i]\n",
    "                number_of_list[i] = number_of_list[i] - temp_remove\n",
    "                if (int(number_of_list[i])) == number_of_list[i]:\n",
    "                    number_of_list[i] = int(number_of_list[i])\n",
    "\n",
    "                sum_percent_removed += temp_remove\n",
    "        else:\n",
    "            number_of_list[smallest_num_idx] = smallest_num + sum_percent_removed\n",
    "            if int(number_of_list[smallest_num_idx]) == number_of_list[smallest_num_idx]:\n",
    "                number_of_list[smallest_num_idx] = int(number_of_list[smallest_num_idx])\n",
    "        \n",
    "        return number_of_list\n",
    "        \n",
    "    except Exception as e:\n",
    "        print(e)\n",
    "        \n",
    "print(show_the_love([4, 1, 4]))\n",
    "print(show_the_love([16, 10, 8]))\n",
    "print(show_the_love([2, 100]))"
   ]
  },
  {
   "cell_type": "code",
   "execution_count": 15,
   "id": "3b669116",
   "metadata": {},
   "outputs": [
    {
     "name": "stdout",
     "output_type": "stream",
     "text": [
      "['aps', 'hr', 'o']\n",
      "['bdor', 'a', 'e']\n",
      "['enp', 'ahis', 'lov']\n",
      "['enp', 'ahis', 'lov']\n",
      "['ahm', 'ct', '']\n"
     ]
    }
   ],
   "source": [
    "#Q2\n",
    "def letters(word1, word2):\n",
    "    try:        \n",
    "        letters_shared = ''.join(sorted(list(set(word1).intersection(set(word2)))))\n",
    "        \n",
    "        word1_to_unique = ''.join(sorted(list(set(word1) - set(word2))))\n",
    "        \n",
    "        word2_to_unique = ''.join(sorted(list(set(word2) - set(word1))))\n",
    "        \n",
    "        return [letters_shared, word1_to_unique, word2_to_unique]\n",
    "        \n",
    "    except Exception as e:\n",
    "        print(e)\n",
    "        \n",
    "print(letters(\"sharp\", \"soap\"))\n",
    "print(letters(\"board\", \"bored\"))\n",
    "print(letters(\"happiness\", \"envelope\"))\n",
    "print(letters(\"happiness\", \"envelope\"))\n",
    "print(letters(\"match\", \"ham\"))"
   ]
  },
  {
   "cell_type": "code",
   "execution_count": 19,
   "id": "6db7b12f",
   "metadata": {},
   "outputs": [
    {
     "name": "stdout",
     "output_type": "stream",
     "text": [
      "[[1, 7], [2, 6], [3, 5], [4, 4]]\n",
      "[[1, 6], [2, 5], [3, 4]]\n",
      "[[5, 2], [9, 1], [8, 8]]\n",
      "[]\n"
     ]
    }
   ],
   "source": [
    "#Q3\n",
    "def pairs(input_list):\n",
    "    try:        \n",
    "        if len(input_list) % 2 == 0:\n",
    "            range_limt = int(len(input_list)/2)\n",
    "        else:\n",
    "            range_limt = int(len(input_list)/2) + 1\n",
    "            \n",
    "        return_list = [[] for i in range(range_limt)]\n",
    "        \n",
    "        for i in range(range_limt):\n",
    "            return_list[i].append(input_list[i])\n",
    "            return_list[i].append(input_list[len(input_list) - i - 1])\n",
    "        \n",
    "        return return_list\n",
    "        \n",
    "    except Exception as e:\n",
    "        print(e)\n",
    "        \n",
    "print(pairs([1, 2, 3, 4, 5, 6, 7]))\n",
    "print(pairs([1, 2, 3, 4, 5, 6]))\n",
    "print(pairs([5, 9, 8, 1, 2]))\n",
    "print(pairs([]))"
   ]
  },
  {
   "cell_type": "code",
   "execution_count": 24,
   "id": "63287464",
   "metadata": {},
   "outputs": [
    {
     "name": "stdout",
     "output_type": "stream",
     "text": [
      "9\n",
      "-1\n",
      "1\n",
      "1874682736267235927391936562808774986\n"
     ]
    }
   ],
   "source": [
    "#Q4\n",
    "def add_str_nums(num1, num2):\n",
    "    try:        \n",
    "        if num1.isnumeric() and num2.isnumeric():\n",
    "            return str(int(num1) + int(num2))\n",
    "        \n",
    "        elif num1.isnumeric() and num2 == \"\":\n",
    "            return str(int(num1))\n",
    "        \n",
    "        elif num1 == \"\" and num2.isnumeric():\n",
    "            return str(int(num2))\n",
    "        \n",
    "        else:\n",
    "            return \"-1\"\n",
    "        \n",
    "    except Exception as e:\n",
    "        print(e)\n",
    "        \n",
    "print(add_str_nums(\"4\", \"5\"))\n",
    "print(add_str_nums(\"abcdefg\", \"3\"))\n",
    "print(add_str_nums(\"1\", \"\"))\n",
    "print(add_str_nums(\"1874682736267235927359283579235789257\", \"32652983572985729\"))"
   ]
  },
  {
   "cell_type": "code",
   "execution_count": null,
   "id": "62ec01ee",
   "metadata": {},
   "outputs": [],
   "source": []
  }
 ],
 "metadata": {
  "kernelspec": {
   "display_name": "Python 3",
   "language": "python",
   "name": "python3"
  },
  "language_info": {
   "codemirror_mode": {
    "name": "ipython",
    "version": 3
   },
   "file_extension": ".py",
   "mimetype": "text/x-python",
   "name": "python",
   "nbconvert_exporter": "python",
   "pygments_lexer": "ipython3",
   "version": "3.8.8"
  }
 },
 "nbformat": 4,
 "nbformat_minor": 5
}
