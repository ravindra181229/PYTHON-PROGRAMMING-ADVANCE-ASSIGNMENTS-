{
 "cells": [
  {
   "cell_type": "markdown",
   "id": "9caf54d8",
   "metadata": {},
   "source": [
    "# Python Advance Programming Assignment - 11"
   ]
  },
  {
   "cell_type": "code",
   "execution_count": 10,
   "id": "b61d5227",
   "metadata": {},
   "outputs": [
    {
     "name": "stdout",
     "output_type": "stream",
     "text": [
      "[7, 3, 11]\n",
      "[10007, 1009]\n",
      "[1009, 3, 61, 1087, 1091, 1093, 1097]\n"
     ]
    }
   ],
   "source": [
    "#Q1\n",
    "def filter_primes(lis):\n",
    "    try:\n",
    "        prime_list = []\n",
    "        for i in lis:\n",
    "            if i == 1:\n",
    "                continue\n",
    "            for j in range(2, int(i/2) + 1):\n",
    "                if i % j == 0:\n",
    "                    break\n",
    "            else:\n",
    "                prime_list.append(i)\n",
    "        return prime_list\n",
    "        \n",
    "    except Exception as e:\n",
    "        print(e)\n",
    "print(filter_primes([7, 9, 3, 9, 10, 11, 27]))\n",
    "print(filter_primes([10007, 1009, 1007, 27, 147, 77, 1001, 70]))\n",
    "print(filter_primes([1009, 10, 10, 10, 3, 33, 9, 4, 1, 61, 63, 69, 1087, 1091, 1093, 1097]))"
   ]
  },
  {
   "cell_type": "code",
   "execution_count": 12,
   "id": "65926728",
   "metadata": {},
   "outputs": [
    {
     "name": "stdout",
     "output_type": "stream",
     "text": [
      "[0, 1, 2, 3, 4, 3, 2, 1, 0]\n",
      "[0, 1, 2, 3, 2, 1, 0]\n",
      "[0, 1, 2, 1, 0]\n",
      "[0]\n"
     ]
    }
   ],
   "source": [
    "#Q2\n",
    "def pop(list_inp):\n",
    "    if len(list_inp) % 2 == 0:\n",
    "        print(\"List input should contain odd numbers\")\n",
    "        return list_inp\n",
    "    \n",
    "    n = len(list_inp)\n",
    "    \n",
    "    if not list_inp[: int(n/2)] == [0] * int(n/2) or not list_inp[int(n/2) + 1: ] == [0] * int(n/2):\n",
    "        print(\"first half and second half both should have only 0s\")\n",
    "        return list_inp\n",
    "    \n",
    "    left_side = list_inp[: int(n/2)]\n",
    "    \n",
    "    right_side = list_inp[int(n/2) + 1: ]\n",
    "    \n",
    "    mid_val = list_inp[int(n/2)]\n",
    "    \n",
    "    mid_val_pop = mid_val\n",
    "    \n",
    "    for i in range(len(left_side)):\n",
    "        \n",
    "        mid_val_pop -= 1\n",
    "        \n",
    "        if mid_val_pop > 0:\n",
    "            \n",
    "            left_side[len(left_side) - i - 1] += mid_val_pop\n",
    "            right_side[i] += mid_val_pop\n",
    "        \n",
    "    \n",
    "    return_list = left_side + [mid_val] + right_side\n",
    "    \n",
    "    return return_list\n",
    "\n",
    "print(pop([0, 0, 0, 0, 4, 0, 0, 0, 0]))\n",
    "print(pop([0, 0, 0, 3, 0, 0, 0]))\n",
    "print(pop([0, 0, 2, 0, 0]))\n",
    "print(pop([0]))"
   ]
  },
  {
   "cell_type": "code",
   "execution_count": 21,
   "id": "24fece26",
   "metadata": {},
   "outputs": [
    {
     "name": "stdout",
     "output_type": "stream",
     "text": [
      "Loves me, Loves me not, LOVES ME\n",
      "Loves me, Loves me not, Loves me, Loves me not, Loves me, LOVES ME NOT\n",
      "LOVES ME\n"
     ]
    }
   ],
   "source": [
    "#Q3\n",
    "def loves_me(num):\n",
    "        \n",
    "    try:\n",
    "        love = ['Loves me', 'Loves me not']\n",
    "\n",
    "        final_list = []\n",
    "        for i in range(num):\n",
    "            final_list.append(love[i % 2])\n",
    "            \n",
    "        final_list[-1] = final_list[-1].upper()\n",
    "        \n",
    "        return ', '.join(final_list)\n",
    "        \n",
    "    except Exception as e:\n",
    "        print(e)\n",
    "        \n",
    "print(loves_me(3))\n",
    "print(loves_me(6))\n",
    "print(loves_me(1))"
   ]
  },
  {
   "cell_type": "code",
   "execution_count": 22,
   "id": "1bf81837",
   "metadata": {},
   "outputs": [
    {
     "name": "stdout",
     "output_type": "stream",
     "text": [
      "['2344b', '932c', '832u32']\n",
      "['99a', '78b', 'c2345', '11d']\n",
      "['304q2', '5y5', '572z']\n",
      "[]\n"
     ]
    }
   ],
   "source": [
    "#Q4\n",
    "def sort_by_letter(list_int):\n",
    "    try:        \n",
    "        temp_list = [[] for _ in range(len(list_int))]\n",
    "        \n",
    "        for i in range(len(list_int)):\n",
    "            for j in list_int[i]:\n",
    "                if j.isalpha():\n",
    "                    temp_list[i].append(j)\n",
    "                    break\n",
    "\n",
    "            temp_list[i].append(list_int[i])\n",
    "        \n",
    "        temp_list.sort()\n",
    "        \n",
    "        final_list = []\n",
    "        for i in range(len(temp_list)):\n",
    "            final_list.append(temp_list[i][1])\n",
    "            \n",
    "        return final_list\n",
    "        \n",
    "    except Exception as e:\n",
    "        print(e)\n",
    "        \n",
    "print(sort_by_letter([\"932c\", \"832u32\", \"2344b\"]))\n",
    "print(sort_by_letter([\"99a\", \"78b\", \"c2345\", \"11d\"]))\n",
    "print(sort_by_letter([\"572z\", \"5y5\", \"304q2\"]))\n",
    "print(sort_by_letter([]))"
   ]
  },
  {
   "cell_type": "code",
   "execution_count": 29,
   "id": "02f6e894",
   "metadata": {},
   "outputs": [
    {
     "data": {
      "text/plain": [
       "'C'"
      ]
     },
     "execution_count": 29,
     "metadata": {},
     "output_type": "execute_result"
    }
   ],
   "source": [
    "#Q5\n",
    "def cup_swapping(swaps):\n",
    "    \n",
    "    try:        \n",
    "        l = ['A', 'B', 'C']\n",
    "        \n",
    "        positions = {'A':0, 'B':1, 'C':2}\n",
    "        \n",
    "        swap_steps_num = ['' for _ in range(len(swaps))]\n",
    "        \n",
    "        for i in range(len(swaps)):\n",
    "            for j in swaps[i]:\n",
    "                swap_steps_num[i] += str(positions[j])\n",
    "                \n",
    "        temp_list = [i for i in l]\n",
    "        \n",
    "        for i in swap_steps_num:\n",
    "            temp = temp_list[int(i[0])]\n",
    "            temp_list[int(i[0])] = temp_list[int(i[1])]\n",
    "            temp_list[int(i[1])] = temp\n",
    "        \n",
    "        return temp_list[positions['B']]\n",
    "        \n",
    "    except Exception as e:\n",
    "        print(e)\n",
    "        \n",
    "cup_swapping([\"AB\", \"CA\", \"AB\"])"
   ]
  },
  {
   "cell_type": "code",
   "execution_count": null,
   "id": "de4a7740",
   "metadata": {},
   "outputs": [],
   "source": []
  }
 ],
 "metadata": {
  "kernelspec": {
   "display_name": "Python 3",
   "language": "python",
   "name": "python3"
  },
  "language_info": {
   "codemirror_mode": {
    "name": "ipython",
    "version": 3
   },
   "file_extension": ".py",
   "mimetype": "text/x-python",
   "name": "python",
   "nbconvert_exporter": "python",
   "pygments_lexer": "ipython3",
   "version": "3.8.8"
  }
 },
 "nbformat": 4,
 "nbformat_minor": 5
}
