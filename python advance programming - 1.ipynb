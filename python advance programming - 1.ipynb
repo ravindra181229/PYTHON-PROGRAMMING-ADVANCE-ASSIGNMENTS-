{
 "cells": [
  {
   "cell_type": "markdown",
   "id": "f574fdab",
   "metadata": {},
   "source": [
    "# python advance programming assignment - 1"
   ]
  },
  {
   "cell_type": "code",
   "execution_count": 10,
   "id": "4d847015",
   "metadata": {},
   "outputs": [
    {
     "data": {
      "text/plain": [
       "2"
      ]
     },
     "execution_count": 10,
     "metadata": {},
     "output_type": "execute_result"
    }
   ],
   "source": [
    "#Q1\n",
    "def check(list_of_symbols):\n",
    "    try:\n",
    "        symbols = {\n",
    "            \"#\" : 5,\n",
    "            \"O\" : 3,\n",
    "            \"X\" : 1,\n",
    "            \"!\" : -1,\n",
    "            \"!!\": -3,\n",
    "            \"!!!\": -5}\n",
    "        total = 0\n",
    "        \n",
    "        for i in list_of_symbols:\n",
    "            for j in i:\n",
    "                total += symbols[j]\n",
    "                \n",
    "        if total>=0:\n",
    "            return total\n",
    "        else:\n",
    "            return 0\n",
    "    except Exception as e:\n",
    "        print(e)\n",
    "\n",
    "check([\n",
    "  [\"#\", \"!\"],\n",
    "  [\"!!\", \"X\"]\n",
    "])"
   ]
  },
  {
   "cell_type": "code",
   "execution_count": 11,
   "id": "d40f0e8b",
   "metadata": {},
   "outputs": [
    {
     "name": "stdout",
     "output_type": "stream",
     "text": [
      "6\n",
      "84\n",
      "120\n"
     ]
    }
   ],
   "source": [
    "#Q2\n",
    "def combination(*args):\n",
    "    try:\n",
    "        \n",
    "        permutation = 1\n",
    "        \n",
    "        for i in args:\n",
    "            permutation *= i\n",
    "        return permutation\n",
    "    except Exception as e:\n",
    "        print(e)\n",
    "print(combination(2,3))\n",
    "print(combination(3,7,4))\n",
    "print(combination(2,3,4,5))"
   ]
  },
  {
   "cell_type": "code",
   "execution_count": 16,
   "id": "255fc3cc",
   "metadata": {},
   "outputs": [
    {
     "name": "stdout",
     "output_type": "stream",
     "text": [
      ".-...--...-.....- -.-......-.-...-...-.--..\n",
      "......-...--. --. -.-.--\n"
     ]
    }
   ],
   "source": [
    "#Q3\n",
    "def encode_morse(str_int):\n",
    "    \n",
    "    try:        \n",
    "        morse_code = \"\"\n",
    "        \n",
    "        char_to_dots = {\n",
    "          'A': '.-', 'B': '-...', 'C': '-.-.', 'D': '-..', 'E': '.', 'F': '..-.',\n",
    "          'G': '--.', 'H': '....', 'I': '..', 'J': '.---', 'K': '-.-', 'L': '.-..',\n",
    "          'M': '--', 'N': '-.', 'O': '---', 'P': '.--.', 'Q': '--.-', 'R': '.-.',\n",
    "          'S': '...', 'T': '-', 'U': '..-', 'V': '...-', 'W': '.--', 'X': '-..-',\n",
    "          'Y': '-.--', 'Z': '--..', ' ': ' ', '0': '-----',\n",
    "          '1': '.----', '2': '..---', '3': '...--', '4': '....-', '5': '.....',\n",
    "          '6': '-....', '7': '--...', '8': '---..', '9': '----.',\n",
    "          '&': '.-...', \"'\": '.----.', '@': '.--.-.', ')': '-.--.-', '(': '-.--.',\n",
    "          ':': '---...', ',': '--..--', '=': '-...-', '!': '-.-.--', '.': '.-.-.-',\n",
    "          '-': '-....-', '+': '.-.-.', '\"': '.-..-.', '?': '..--..', '/': '-..-.'\n",
    "        }\n",
    "        \n",
    "        for i in str_int:\n",
    "            morse_code += char_to_dots[i]\n",
    "        \n",
    "        return morse_code\n",
    "        \n",
    "    except Exception as e:\n",
    "        print(e)\n",
    "\n",
    "print(encode_morse(\"EDABBIT CHALLENGE\"))\n",
    "\n",
    "print(encode_morse(\"HELP ME !\"))"
   ]
  },
  {
   "cell_type": "code",
   "execution_count": 19,
   "id": "4f520cde",
   "metadata": {},
   "outputs": [
    {
     "name": "stdout",
     "output_type": "stream",
     "text": [
      "True\n",
      "True\n",
      "False\n"
     ]
    }
   ],
   "source": [
    "#Q4\n",
    "def prime_no(no):\n",
    "    try:\n",
    "        for i in range(2,int(no/2)):\n",
    "            if no%i == 0:\n",
    "                return False\n",
    "            else:\n",
    "                return True\n",
    "    except Exception as e:\n",
    "        print(e)\n",
    "print(prime_no(7))\n",
    "print(prime_no(56963))\n",
    "print(prime_no(5151512515524))"
   ]
  },
  {
   "cell_type": "code",
   "execution_count": 22,
   "id": "d068e59d",
   "metadata": {},
   "outputs": [
    {
     "name": "stdout",
     "output_type": "stream",
     "text": [
      "[False, True, True, False]\n",
      "[False, True, False, True, True]\n",
      "[False, True, True, False]\n"
     ]
    }
   ],
   "source": [
    "#Q5\n",
    "#this program takes a number if its prime it will return value as true else it will return as fault\n",
    "def boolean_list(words):\n",
    "    try:\n",
    "        return_list = []\n",
    "        for i in list(words):\n",
    "            if i.isupper():\n",
    "                return_list.append((ord(i)-64)%2)\n",
    "            else:\n",
    "                return_list.append((ord(i)-96)%2)\n",
    "                \n",
    "        return [bool(j) for j in return_list]\n",
    "    except Exception as e:\n",
    "        print(e)\n",
    "\n",
    "print(boolean_list(\"deep\"))\n",
    "print(boolean_list(\"loves\"))\n",
    "print(boolean_list(\"tesh\"))"
   ]
  },
  {
   "cell_type": "code",
   "execution_count": null,
   "id": "40da28e5",
   "metadata": {},
   "outputs": [],
   "source": []
  }
 ],
 "metadata": {
  "kernelspec": {
   "display_name": "Python 3",
   "language": "python",
   "name": "python3"
  },
  "language_info": {
   "codemirror_mode": {
    "name": "ipython",
    "version": 3
   },
   "file_extension": ".py",
   "mimetype": "text/x-python",
   "name": "python",
   "nbconvert_exporter": "python",
   "pygments_lexer": "ipython3",
   "version": "3.8.8"
  }
 },
 "nbformat": 4,
 "nbformat_minor": 5
}
