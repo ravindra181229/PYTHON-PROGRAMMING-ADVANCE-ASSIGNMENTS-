{
 "cells": [
  {
   "cell_type": "markdown",
   "id": "bf5adff3",
   "metadata": {},
   "source": [
    "# python advance programming assignment - 10"
   ]
  },
  {
   "cell_type": "code",
   "execution_count": 2,
   "id": "62e2a700",
   "metadata": {},
   "outputs": [
    {
     "name": "stdout",
     "output_type": "stream",
     "text": [
      "[['####'], ['#  #'], ['#  #'], ['#  #'], ['####']]\n",
      "[['**********'], ['*        *'], ['**********']]\n",
      "Frame's width is not more than 2.\n",
      "invalid\n"
     ]
    }
   ],
   "source": [
    "#Q1\n",
    "''' This function takes the width, height and character and returns a picture frame as a 2D list'''\n",
    "def get_frame(w, h, char_val):\n",
    "    try:        \n",
    "        if h <= 2 or w <= 2:\n",
    "            print(\"Frame's width is not more than 2.\")\n",
    "            return \"invalid\"\n",
    "        \n",
    "        if not len(char_val) == 1:\n",
    "            print(\"character input has to be 1 byte long\")\n",
    "            return \"invalid\"\n",
    "            \n",
    "        a = [[] for i in range(h)]\n",
    "        \n",
    "        for i in range(h):\n",
    "            for j in range(w):\n",
    "                if i == 0 or i == (h-1) or j == 0 or j == (w-1):\n",
    "                    a[i].append(char_val)\n",
    "                else:\n",
    "                    a[i].append(' ')\n",
    "        \n",
    "        for i in range(len(a)):\n",
    "            a[i] = [''.join(a[i])]\n",
    "        \n",
    "        return a\n",
    "        \n",
    "    except Exception as e:\n",
    "        print(e)\n",
    "        \n",
    "print(get_frame(4, 5, \"#\"))\n",
    "print(get_frame(10, 3, \"*\"))\n",
    "print(get_frame(2, 5, \"0\"))"
   ]
  },
  {
   "cell_type": "code",
   "execution_count": 15,
   "id": "5db8f80b",
   "metadata": {},
   "outputs": [
    {
     "name": "stdout",
     "output_type": "stream",
     "text": [
      "False\n",
      "True\n",
      "False\n"
     ]
    }
   ],
   "source": [
    "#Q2\n",
    "'''this function takes list of boolean values as input and returns the ouput based on AND,OR,XOR operations'''\n",
    "\"\"\"boolea_AND\"\"\"\n",
    "def boolean_and(list_of_bool):\n",
    "    try:        \n",
    "        result = True\n",
    "        \n",
    "        for i in list_of_bool:\n",
    "            result = result and i\n",
    "        \n",
    "        return result\n",
    "        \n",
    "    except Exception as e:\n",
    "        print(e)\n",
    "#boolean_or\n",
    "'''boolean_OR'''\n",
    "def boolean_or(list_of_bool):\n",
    "    try:        \n",
    "        result = False\n",
    "        \n",
    "        for i in list_of_bool:\n",
    "            result = result or i\n",
    "        \n",
    "        return result\n",
    "        \n",
    "    except Exception as e:\n",
    "        print(e)\n",
    "        \n",
    "#boolean_and\n",
    "'''boolean_XOR'''\n",
    "def boolean_xor(list_of_bool):\n",
    "    \n",
    "    try:        \n",
    "        result = (list_of_bool[0] != list_of_bool[1])\n",
    "        \n",
    "        for i in range(2, len(list_of_bool)):\n",
    "            result = (result != list_of_bool[i])\n",
    "        \n",
    "        return result\n",
    "        \n",
    "    except Exception as e:\n",
    "        print(e)\n",
    "        \n",
    "        \n",
    "print(boolean_and([True,True,False,True]))\n",
    "print(boolean_or([True,True,False,False]))\n",
    "print(boolean_xor([True,True,False,False]))"
   ]
  },
  {
   "cell_type": "code",
   "execution_count": 16,
   "id": "de819359",
   "metadata": {},
   "outputs": [
    {
     "name": "stdout",
     "output_type": "stream",
     "text": [
      "['#####', '#   #', '#   #', '#   #', '#####']\n",
      "['###', '# #', '###']\n",
      "['##', '##']\n",
      "['#']\n"
     ]
    }
   ],
   "source": [
    "#Q3\n",
    "'''this function creates a box on dimension '''\n",
    "def make_box(n):\n",
    "    try:        \n",
    "        a = [\"\" for i in range(n)]\n",
    "        for i in range(n):\n",
    "            for j in range(n):\n",
    "                if i == 0 or i == (n-1) or j == 0 or j == (n-1):\n",
    "                    a[i] += \"#\"\n",
    "                else:\n",
    "                    a[i] += ' '\n",
    "        return a\n",
    "    \n",
    "    except Exception as e:\n",
    "        print(e)\n",
    "\n",
    "print(make_box(5))\n",
    "print(make_box(3))\n",
    "print(make_box(2))\n",
    "print(make_box(1))"
   ]
  },
  {
   "cell_type": "code",
   "execution_count": 18,
   "id": "8618e970",
   "metadata": {},
   "outputs": [
    {
     "name": "stdout",
     "output_type": "stream",
     "text": [
      "True\n",
      "True\n",
      "False\n",
      "False\n"
     ]
    }
   ],
   "source": [
    "#Q4\n",
    "'''this function takes input as phrase if any individual word in phase contains duplicate letters it will return false \n",
    "else it will return true'''\n",
    "def no_duplicate_letters(phrase):\n",
    "    try:        \n",
    "        for i in phrase.split(\" \"):\n",
    "            \n",
    "            if not len(i) == len(set(i.lower())):\n",
    "                return False\n",
    "        else:\n",
    "            return True\n",
    "    \n",
    "    except Exception as e:\n",
    "        print(e)\n",
    "        \n",
    "print(no_duplicate_letters(\"Fortune favours the bold.\"))\n",
    "print(no_duplicate_letters(\"You can lead a horse to water, but you can't make him drink.\"))\n",
    "print(no_duplicate_letters(\"Look before you leap.\"))\n",
    "print(no_duplicate_letters(\"An apple a day keeps the doctor away.\"))"
   ]
  },
  {
   "cell_type": "code",
   "execution_count": 17,
   "id": "102dd621",
   "metadata": {},
   "outputs": [
    {
     "data": {
      "text/plain": [
       "['California = yes', 'Florida = yes']"
      ]
     },
     "execution_count": 17,
     "metadata": {},
     "output_type": "execute_result"
    }
   ],
   "source": [
    "#Q5\n",
    "import re\n",
    "txt = \"Texas = no, California = yes, Florida = yes, Michigan = no\"\n",
    "re.findall(\"[a-zA-Z]+ *= *yes\", txt)"
   ]
  },
  {
   "cell_type": "code",
   "execution_count": null,
   "id": "32b41396",
   "metadata": {},
   "outputs": [],
   "source": []
  }
 ],
 "metadata": {
  "kernelspec": {
   "display_name": "Python 3",
   "language": "python",
   "name": "python3"
  },
  "language_info": {
   "codemirror_mode": {
    "name": "ipython",
    "version": 3
   },
   "file_extension": ".py",
   "mimetype": "text/x-python",
   "name": "python",
   "nbconvert_exporter": "python",
   "pygments_lexer": "ipython3",
   "version": "3.8.8"
  }
 },
 "nbformat": 4,
 "nbformat_minor": 5
}
