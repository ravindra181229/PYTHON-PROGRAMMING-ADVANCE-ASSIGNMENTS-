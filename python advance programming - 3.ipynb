{
 "cells": [
  {
   "cell_type": "markdown",
   "id": "05dd1d61",
   "metadata": {},
   "source": [
    "# Python Advance Programming Assignment - 3"
   ]
  },
  {
   "cell_type": "code",
   "execution_count": 5,
   "id": "5eb7b6ee",
   "metadata": {},
   "outputs": [
    {
     "name": "stdout",
     "output_type": "stream",
     "text": [
      "24\n",
      "0\n",
      "144\n",
      "-1\n"
     ]
    }
   ],
   "source": [
    "#Q1\n",
    "#this program performs arithmetic operations on an expression and returns it as string\n",
    "import re\n",
    "def arithmetic_operation(str_exp):\n",
    "    try:\n",
    "        if bool(re.findall(r\"^ *\\d+ *[+\\-*] *\\d+ *$\", str_exp)):\n",
    "            operand1 = int(re.findall(r\"^ *\\d+\", str_exp)[0])\n",
    "            operand2 = int(re.findall(r\"\\d+ *$\", str_exp)[0])\n",
    "            operator = re.findall(r\"[+\\-*]\", str_exp)[0]\n",
    "        elif bool(re.findall(r\"^ *\\d+ *// *\\d+ *$\", str_exp)):\n",
    "            operand1 = int(re.findall(r\"^ *\\d+\", str_exp)[0])\n",
    "            operand2 = int(re.findall(r\"\\d+ *$\", str_exp)[0])\n",
    "            operator = re.findall(r\"//\", str_exp)[0]\n",
    "        else:\n",
    "            print(\"not a valid input string\")\n",
    "            return 0\n",
    "        \n",
    "        if operator == '+':\n",
    "            return operand1 + operand2\n",
    "        elif operator == '-':\n",
    "            return operand1 - operand2\n",
    "        elif operator == '*':\n",
    "            return operand1 * operand2\n",
    "        else:\n",
    "            if operand2 == 0:\n",
    "                return -1\n",
    "            else:\n",
    "                return operand1 / operand2\n",
    "            \n",
    "    except Exception as e:\n",
    "        print(e)\n",
    "        \n",
    "print(arithmetic_operation(\"12 + 12\"))\n",
    "print(arithmetic_operation(\"12 - 12\"))\n",
    "print(arithmetic_operation(\"12 * 12\"))\n",
    "print(arithmetic_operation(\"12 // 0\"))"
   ]
  },
  {
   "cell_type": "code",
   "execution_count": 8,
   "id": "89a80e14",
   "metadata": {},
   "outputs": [
    {
     "name": "stdout",
     "output_type": "stream",
     "text": [
      "47.08\n",
      "3.41\n",
      "68.28\n"
     ]
    }
   ],
   "source": [
    "#Q2\n",
    "def perimeter(points_array):\n",
    "    try:\n",
    "        \n",
    "        if len(points_array) == 3:\n",
    "            \n",
    "            peri = 0\n",
    "\n",
    "            for i in range(2):\n",
    "                x_diff = points_array[i][0] - points_array[i+1][0]\n",
    "                y_diff = points_array[i][1] - points_array[i+1][1]\n",
    "\n",
    "                side = (x_diff ** 2 + y_diff ** 2) ** (0.5)\n",
    "\n",
    "                peri += side\n",
    "\n",
    "            x_diff = points_array[0][0] - points_array[2][0]\n",
    "            y_diff = points_array[0][1] - points_array[2][1]\n",
    "            side = (x_diff ** 2 + y_diff ** 2) ** (0.5)\n",
    "\n",
    "            peri += side\n",
    "            \n",
    "            return round(peri, 2)\n",
    "        \n",
    "        else:\n",
    "            \n",
    "            print(\"Check logs for error\")\n",
    "        \n",
    "        \n",
    "    except Exception as e:\n",
    "        print(e)\n",
    "        \n",
    "print(perimeter([ [15, 7], [5, 22], [11, 1] ]))\n",
    "print(perimeter([ [0, 0], [0, 1], [1, 0] ]))\n",
    "print(perimeter([ [-10, -10], [10, 10 ], [-10, 10] ]))"
   ]
  },
  {
   "cell_type": "code",
   "execution_count": 17,
   "id": "d97e6168",
   "metadata": {},
   "outputs": [
    {
     "name": "stdout",
     "output_type": "stream",
     "text": [
      "3\n",
      "4\n",
      "2\n"
     ]
    }
   ],
   "source": [
    "#Q3\n",
    "#this program returns the height of by taking the input as 2-d list representing the buildings\n",
    "def tallest_skyscraper(sky_array):\n",
    "    try:        \n",
    "        for i in range(len(sky_array)-1):\n",
    "            if not len(sky_array[i]) == len(sky_array[i+1]):\n",
    "                print(\"Length not equal to all sub arrays\")\n",
    "                return 0\n",
    "        else:\n",
    "            building_length = [0 for i in range(len(sky_array[0]))]\n",
    "\n",
    "            for j in range(len(sky_array[0])):\n",
    "                for k in range(len(sky_array)):\n",
    "                    building_length[j] += sky_array[k][j]\n",
    "            \n",
    "            return max(building_length)\n",
    "        \n",
    "    except Exception as e:\n",
    "        print(e)\n",
    "print(tallest_skyscraper([\n",
    "  [0, 0, 0, 0],\n",
    "  [0, 1, 0, 0],\n",
    "  [0, 1, 1, 0],\n",
    "  [1, 1, 1, 1]\n",
    "]))\n",
    "\n",
    "print(tallest_skyscraper([\n",
    "  [0, 1, 0, 0],\n",
    "  [0, 1, 0, 0],\n",
    "  [0, 1, 1, 0],\n",
    "  [1, 1, 1, 1]\n",
    "]))\n",
    "\n",
    "print(tallest_skyscraper([\n",
    "  [0, 0, 0, 0],\n",
    "  [0, 0, 0, 0],\n",
    "  [1, 1, 1, 0],\n",
    "  [1, 1, 1, 1]\n",
    "]) )"
   ]
  },
  {
   "cell_type": "code",
   "execution_count": 8,
   "id": "9a38d323",
   "metadata": {},
   "outputs": [
    {
     "name": "stdout",
     "output_type": "stream",
     "text": [
      "0\n",
      "1625\n",
      "8200\n",
      "number of given days is less than 0\n",
      "0\n"
     ]
    }
   ],
   "source": [
    "#Q4\n",
    "#this program takes number of days as input and returns the bonus \n",
    "def bonus(num_of_days):\n",
    "    \n",
    "    try:        \n",
    "        if num_of_days < 0:\n",
    "            print(\"number of given days is less than 0\")\n",
    "            return 0\n",
    "        \n",
    "        dict_bonus = {\n",
    "            range(0, 32+1): 0,\n",
    "            range(33, 40+1): 325,\n",
    "            range(41, 48+1): 550\n",
    "        }\n",
    "\n",
    "        bonus_greater_than_48 = 600\n",
    "\n",
    "        for i in dict_bonus.keys():\n",
    "            if num_of_days in i:\n",
    "                range_val = i\n",
    "                break\n",
    "        else:\n",
    "            range_val = \"Not_in_range\"\n",
    "\n",
    "        if range_val == \"Not_in_range\":\n",
    "            next_val = list(dict_bonus.keys())[-1].stop - 1\n",
    "\n",
    "            return (num_of_days - next_val) * bonus_greater_than_48 + bonus(next_val)\n",
    "\n",
    "        elif range_val == list(dict_bonus.keys())[0]:\n",
    "            return num_of_days * dict_bonus[range_val]\n",
    "\n",
    "        else:\n",
    "            next_val = range_val.start - 1\n",
    "\n",
    "            return (num_of_days - next_val) * dict_bonus[range_val] + bonus(next_val)\n",
    "    \n",
    "    except Exception as e:\n",
    "        print(e)\n",
    "        \n",
    "print(bonus(15))\n",
    "print(bonus(37))\n",
    "print(bonus(50))\n",
    "print(bonus(-1))"
   ]
  },
  {
   "cell_type": "code",
   "execution_count": 14,
   "id": "8de37d51",
   "metadata": {},
   "outputs": [
    {
     "name": "stdout",
     "output_type": "stream",
     "text": [
      "False\n",
      "True\n",
      "False\n",
      "True\n",
      "False\n",
      "True\n"
     ]
    }
   ],
   "source": [
    "#Q5\n",
    "#this program gives output wheather a number is diarium or not\n",
    "#\n",
    "def is_disarium(num):\n",
    "    try:\n",
    "        sum_value = 0\n",
    "        for i in range(len(str(num))):\n",
    "            sum_value += ( int(str(num)[i]) ** (i+1) )\n",
    "        if num == sum_value:\n",
    "            return True\n",
    "        else:\n",
    "            return False\n",
    "    except Exception as e:\n",
    "        print(e)\n",
    "    \n",
    "print(is_disarium(75))\n",
    "print(is_disarium(135))\n",
    "print(is_disarium(544))\n",
    "print(is_disarium(518))\n",
    "print(is_disarium(466))\n",
    "print(is_disarium(8))"
   ]
  },
  {
   "cell_type": "code",
   "execution_count": null,
   "id": "306e35e1",
   "metadata": {},
   "outputs": [],
   "source": []
  }
 ],
 "metadata": {
  "kernelspec": {
   "display_name": "Python 3",
   "language": "python",
   "name": "python3"
  },
  "language_info": {
   "codemirror_mode": {
    "name": "ipython",
    "version": 3
   },
   "file_extension": ".py",
   "mimetype": "text/x-python",
   "name": "python",
   "nbconvert_exporter": "python",
   "pygments_lexer": "ipython3",
   "version": "3.8.8"
  }
 },
 "nbformat": 4,
 "nbformat_minor": 5
}
