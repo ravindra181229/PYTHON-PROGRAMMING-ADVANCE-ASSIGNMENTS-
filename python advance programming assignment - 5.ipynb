{
 "cells": [
  {
   "cell_type": "markdown",
   "id": "11fe41f8",
   "metadata": {},
   "source": [
    "# python advance programming assignment - 5"
   ]
  },
  {
   "cell_type": "code",
   "execution_count": 2,
   "id": "bc43a8c0",
   "metadata": {},
   "outputs": [
    {
     "name": "stdout",
     "output_type": "stream",
     "text": [
      "2\n",
      "8\n",
      "2\n"
     ]
    }
   ],
   "source": [
    "#Q1\n",
    "def f(num):\n",
    "    try:\n",
    "        return_array = [8, 2]\n",
    "        \n",
    "        return return_array[num % 2]\n",
    "        \n",
    "    except Exception as e:\n",
    "        print(e)\n",
    "        \n",
    "print(f(1))\n",
    "print(f(2))\n",
    "print(f(3))"
   ]
  },
  {
   "cell_type": "code",
   "execution_count": 6,
   "id": "7f7b19ab",
   "metadata": {},
   "outputs": [
    {
     "name": "stdout",
     "output_type": "stream",
     "text": [
      "A\n",
      "A\n",
      "None\n"
     ]
    }
   ],
   "source": [
    "#Q2\n",
    "def majority_vote(votes):\n",
    "    try:\n",
    "        for element in list(set(votes)):\n",
    "            \n",
    "            if votes.count(element) > int(len(votes) / 2):\n",
    "                return element\n",
    "        else:\n",
    "            return None\n",
    "        \n",
    "    except Exception as e:\n",
    "        print(e)\n",
    "print(majority_vote([\"A\", \"A\", \"B\"]))\n",
    "print(majority_vote([\"A\", \"A\", \"A\", \"B\", \"C\", \"A\"]))\n",
    "print(majority_vote([\"A\", \"B\", \"B\", \"A\", \"C\", \"C\"]))"
   ]
  },
  {
   "cell_type": "code",
   "execution_count": 14,
   "id": "8a25183a",
   "metadata": {},
   "outputs": [
    {
     "name": "stdout",
     "output_type": "stream",
     "text": [
      "----- is - Wednesday!\n",
      "The *** jumped **** the moon.\n",
      "Why *** the ******* cross the ****?\n"
     ]
    }
   ],
   "source": [
    "#Q3\n",
    "import re\n",
    "def censor_string(string_text, list_of_words, char_to_replace):\n",
    "    try:\n",
    "        censored_string = string_text\n",
    "        \n",
    "        for word in list_of_words:\n",
    "            if bool(re.findall(word + \" \", string_text)):\n",
    "                censored_string = re.sub(word + \" \", (char_to_replace * len(word)) + \" \", censored_string)\n",
    "            \n",
    "            if bool(re.findall(\" \" + word, string_text)):\n",
    "                censored_string = re.sub(\" \" + word, \" \" + (char_to_replace * len(word)), censored_string)\n",
    "                \n",
    "                \n",
    "        return censored_string\n",
    "        \n",
    "    except Exception as e:\n",
    "        print(e)\n",
    "\n",
    "print(censor_string(\"Today is a Wednesday!\", [\"Today\", \"a\"], \"-\") )\n",
    "print(censor_string(\"The cow jumped over the moon.\", [\"cow\", \"over\"], \"*\"))\n",
    "print(censor_string(\"Why did the chicken cross the road?\", [\"did\", \"chicken\", \"road\"], \"*\"))"
   ]
  },
  {
   "cell_type": "code",
   "execution_count": 19,
   "id": "2a2cedd4",
   "metadata": {},
   "outputs": [
    {
     "name": "stdout",
     "output_type": "stream",
     "text": [
      "True\n",
      "False\n"
     ]
    }
   ],
   "source": [
    "#Q4\n",
    "def is_polydivisible(num):\n",
    "    try:\n",
    "        num_str = str(num)\n",
    "        \n",
    "        if num_str[0] == 0:\n",
    "            return False\n",
    "        \n",
    "        if len(num_str) == 1 and num_str.isnumeric():\n",
    "            return True\n",
    "        \n",
    "        for i in range(2, len(num_str) + 1):\n",
    "            if not int(num_str[:i]) % i == 0:\n",
    "                return False\n",
    "        else:\n",
    "            return True\n",
    "        \n",
    "    except Exception as e:\n",
    "        print(e)\n",
    "print(is_polydivisible(1232))\n",
    "print(is_polydivisible(123220))"
   ]
  },
  {
   "cell_type": "code",
   "execution_count": 30,
   "id": "92b19910",
   "metadata": {},
   "outputs": [
    {
     "name": "stdout",
     "output_type": "stream",
     "text": [
      "17\n",
      "87\n",
      "0\n"
     ]
    }
   ],
   "source": [
    "#Q5\n",
    "def sum_primes(list_of_numbers):\n",
    "    try:\n",
    "        sum = 0\n",
    "\n",
    "        for i in list_of_numbers:\n",
    "            if i == 1:\n",
    "                continue\n",
    "\n",
    "            if i == 2:\n",
    "                sum += i\n",
    "\n",
    "                continue\n",
    "\n",
    "            for j in range(2, int(i/2)+1):\n",
    "                if i % j == 0:\n",
    "                    break\n",
    "            else:\n",
    "                sum += i\n",
    "        \n",
    "        return sum\n",
    "    \n",
    "    except Exception as e:\n",
    "        Print(e)\n",
    "        \n",
    "print(sum_primes([1, 2, 3, 4, 5, 6, 7, 8, 9, 10]))\n",
    "print(sum_primes([2, 3, 4, 11, 20, 50, 71]))\n",
    "print(sum_primes([]))"
   ]
  },
  {
   "cell_type": "code",
   "execution_count": null,
   "id": "ddc6410c",
   "metadata": {},
   "outputs": [],
   "source": []
  }
 ],
 "metadata": {
  "kernelspec": {
   "display_name": "Python 3",
   "language": "python",
   "name": "python3"
  },
  "language_info": {
   "codemirror_mode": {
    "name": "ipython",
    "version": 3
   },
   "file_extension": ".py",
   "mimetype": "text/x-python",
   "name": "python",
   "nbconvert_exporter": "python",
   "pygments_lexer": "ipython3",
   "version": "3.8.8"
  }
 },
 "nbformat": 4,
 "nbformat_minor": 5
}
