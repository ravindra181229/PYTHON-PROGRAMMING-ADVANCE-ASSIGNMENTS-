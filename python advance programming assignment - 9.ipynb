{
 "cells": [
  {
   "cell_type": "markdown",
   "id": "f2d1d2fa",
   "metadata": {},
   "source": [
    "# python advance programming assignment - 9"
   ]
  },
  {
   "cell_type": "code",
   "execution_count": 24,
   "id": "62515dac",
   "metadata": {},
   "outputs": [
    {
     "name": "stdout",
     "output_type": "stream",
     "text": [
      "0:15:00\n",
      "0:53:20\n",
      "4 days, 6:40:18\n"
     ]
    }
   ],
   "source": [
    "#Q1\n",
    "import datetime\n",
    "def playback_duration(actual_duration, playback_speed):\n",
    "    try:\n",
    "        h,m,s = actual_duration.split(\":\")\n",
    "        \n",
    "        new_seconds = int(datetime.timedelta(hours=int(h),minutes=int(m),seconds=int(s)).total_seconds()) / playback_speed\n",
    "        \n",
    "        \n",
    "        return str(datetime.timedelta(seconds=new_seconds))\n",
    "        \n",
    "    except Exception as e:\n",
    "        print(e)\n",
    "print(playback_duration(\"00:30:00\", 2))\n",
    "print(playback_duration(\"01:20:00\", 1.5))\n",
    "print(playback_duration(\"51:20:09\", 0.5))"
   ]
  },
  {
   "cell_type": "code",
   "execution_count": 25,
   "id": "b78c91d2",
   "metadata": {},
   "outputs": [
    {
     "name": "stdout",
     "output_type": "stream",
     "text": [
      "45\n",
      "2022\n",
      "None\n"
     ]
    }
   ],
   "source": [
    "#Q2\n",
    "def pile_of_cubes(volume):\n",
    "    try:\n",
    "        b = volume\n",
    "        i = 1\n",
    "        n = 0\n",
    "        while b > 1:\n",
    "            if i ** 3 <= b:\n",
    "                n += 1\n",
    "                b -= i ** 3\n",
    "            else:\n",
    "                return \"None\"\n",
    "            i += 1\n",
    "        else:\n",
    "            return n\n",
    "        \n",
    "    except Exception as e:\n",
    "        print(e)\n",
    "print(pile_of_cubes(1071225))\n",
    "print(pile_of_cubes(4183059834009))\n",
    "print(pile_of_cubes(16))"
   ]
  },
  {
   "cell_type": "code",
   "execution_count": 26,
   "id": "af9c999a",
   "metadata": {},
   "outputs": [
    {
     "name": "stdout",
     "output_type": "stream",
     "text": [
      "2\n",
      "4\n",
      "1\n",
      "0\n",
      "-1\n"
     ]
    }
   ],
   "source": [
    "#Q3\n",
    "def find_fulcrum(list_of_int):\n",
    "    try:\n",
    "        for i in range(1, len(list_of_int)):\n",
    "            if sum(list_of_int[: i]) == sum(list_of_int[i+1 : ]):\n",
    "                return list_of_int[i]  \n",
    "        else:\n",
    "            return -1\n",
    "        \n",
    "        \n",
    "    except Exception as e:\n",
    "        print(e)\n",
    "print(find_fulcrum([3, 1, 5, 2, 4, 6, -1]))\n",
    "print(find_fulcrum([1, 2, 4, 9, 10, -10, -9, 3]))\n",
    "print(find_fulcrum([9, 1, 9]))\n",
    "print(find_fulcrum([7, -1, 0, -1, 1, 1, 2, 3]))\n",
    "print(find_fulcrum([8, 8, 8, 8]))"
   ]
  },
  {
   "cell_type": "code",
   "execution_count": 27,
   "id": "9042dcab",
   "metadata": {},
   "outputs": [
    {
     "name": "stdout",
     "output_type": "stream",
     "text": [
      "3\n",
      "4\n",
      "0\n"
     ]
    }
   ],
   "source": [
    "#Q4\n",
    "def sock_merchant(list_of_int):\n",
    "    try:\n",
    "        b = list_of_int[:]\n",
    "\n",
    "        match_vales = []\n",
    "        unmatch_values = []\n",
    "\n",
    "        while len(b) > 0:\n",
    "            if b[0] in b[1:]:\n",
    "\n",
    "                match_vales.append(b[0])\n",
    "                b.remove(b[0])\n",
    "                b.remove(match_vales[-1])\n",
    "\n",
    "            else:\n",
    "\n",
    "                unmatch_values.append(b[0])\n",
    "                b.remove(b[0])\n",
    "\n",
    "        return len(match_vales)\n",
    "    \n",
    "    except Exception as e:\n",
    "        print(e)\n",
    "print(sock_merchant([10, 20, 20, 10, 10, 30, 50, 10, 20]))\n",
    "print(sock_merchant([50, 20, 30, 90, 30, 20, 50, 20, 90]))\n",
    "print(sock_merchant([]))"
   ]
  },
  {
   "cell_type": "code",
   "execution_count": 28,
   "id": "2bbb5ba2",
   "metadata": {},
   "outputs": [
    {
     "name": "stdout",
     "output_type": "stream",
     "text": [
      "-23\n",
      "-33\n"
     ]
    }
   ],
   "source": [
    "#Q5\n",
    "import re\n",
    "def negative_sum(str_input):\n",
    "    try:\n",
    "        sum = 0\n",
    "        for i in re.findall(\"- *\\d+\", str_input):\n",
    "            sum += int(i)\n",
    "        return sum\n",
    "        \n",
    "    except Exception as e:\n",
    "        print(e)\n",
    "print(negative_sum(\"-12 13%14&-11\"))\n",
    "print(negative_sum(\"22 13%14&-11-22 13 12\"))"
   ]
  },
  {
   "cell_type": "code",
   "execution_count": null,
   "id": "b1358b35",
   "metadata": {},
   "outputs": [],
   "source": []
  }
 ],
 "metadata": {
  "kernelspec": {
   "display_name": "Python 3",
   "language": "python",
   "name": "python3"
  },
  "language_info": {
   "codemirror_mode": {
    "name": "ipython",
    "version": 3
   },
   "file_extension": ".py",
   "mimetype": "text/x-python",
   "name": "python",
   "nbconvert_exporter": "python",
   "pygments_lexer": "ipython3",
   "version": "3.8.8"
  }
 },
 "nbformat": 4,
 "nbformat_minor": 5
}
