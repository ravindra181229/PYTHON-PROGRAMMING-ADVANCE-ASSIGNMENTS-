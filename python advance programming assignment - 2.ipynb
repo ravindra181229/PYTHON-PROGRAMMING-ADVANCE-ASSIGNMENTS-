{
 "cells": [
  {
   "cell_type": "markdown",
   "id": "12c5e5ca",
   "metadata": {},
   "source": [
    "# python advance programming assignment - 2"
   ]
  },
  {
   "cell_type": "code",
   "execution_count": 1,
   "id": "b78eed18",
   "metadata": {},
   "outputs": [
    {
     "name": "stdout",
     "output_type": "stream",
     "text": [
      "1\n",
      "6\n",
      "16\n",
      "141\n"
     ]
    }
   ],
   "source": [
    "#Q1\n",
    "#this program takes an integer and returns number of dots present in pentagon \n",
    "\n",
    "def pentagon(number):\n",
    "    if number == 1:\n",
    "        return 1\n",
    "    return 5 * (number-1) + pentagon(number-1)\n",
    "\n",
    "print(pentagon(1))\n",
    "print(pentagon(2))\n",
    "print(pentagon(3))\n",
    "print(pentagon(8))"
   ]
  },
  {
   "cell_type": "code",
   "execution_count": 6,
   "id": "5941c8f6",
   "metadata": {},
   "outputs": [
    {
     "name": "stdout",
     "output_type": "stream",
     "text": [
      "1lpp0aca\n",
      "0n0n0baca\n",
      "0c0r0kaca\n",
      "k0r3baca\n",
      "0c0pl0aca\n"
     ]
    }
   ],
   "source": [
    "#Q2\n",
    "#this is a program that encrypts the string\n",
    "def encrypts(str_int):\n",
    "    vowel = {\"a\": 0, \"e\": 1, \"i\": 2, \"o\": 2, \"u\": 3}\n",
    "    reverse = str_int[::-1]\n",
    "    \n",
    "    reverse_list = []\n",
    "    for i in reverse:\n",
    "        if i in list(vowel.keys()):\n",
    "            reverse_list.append(str(vowel[i]))\n",
    "        else:\n",
    "            reverse_list.append(i)\n",
    "    return \"\".join(reverse_list)+\"aca\"\n",
    "            \n",
    "print(encrypts(\"apple\"))\n",
    "print(encrypts(\"banana\"))\n",
    "print(encrypts(\"karaca\"))\n",
    "print(encrypts(\"burak\"))\n",
    "print(encrypts(\"alpaca\"))"
   ]
  },
  {
   "cell_type": "code",
   "execution_count": 10,
   "id": "b1f88400",
   "metadata": {},
   "outputs": [
    {
     "name": "stdout",
     "output_type": "stream",
     "text": [
      "True\n",
      "True\n",
      "False\n"
     ]
    }
   ],
   "source": [
    "#Q3\n",
    "#this program returns wheather a month has friday 13th\n",
    "import datetime\n",
    "def is_friday_13th(month_no,year_no):\n",
    "    if datetime.date(year=year_no,month=month_no,day=13).strftime(\"%A\") == \"Friday\":\n",
    "        return True\n",
    "    else:\n",
    "        return False\n",
    "    \n",
    "print(is_friday_13th(3,2020))\n",
    "print(is_friday_13th(10,2017))\n",
    "print(is_friday_13th(1,1985))"
   ]
  },
  {
   "cell_type": "code",
   "execution_count": 18,
   "id": "251288a5",
   "metadata": {},
   "outputs": [
    {
     "data": {
      "text/plain": [
       "2"
      ]
     },
     "execution_count": 18,
     "metadata": {},
     "output_type": "execute_result"
    }
   ],
   "source": [
    "#Q4\n",
    "import re\n",
    "lst = [\"bad cookie\", \"good cookie\", \"bad cookie\", \"good cookie\", \"good cookie\"]\n",
    "pattern = r\"bad *cook\"\n",
    "len(re.findall(pattern, \", \".join(lst))) "
   ]
  },
  {
   "cell_type": "code",
   "execution_count": 26,
   "id": "68188e68",
   "metadata": {},
   "outputs": [
    {
     "name": "stdout",
     "output_type": "stream",
     "text": [
      "{'cows', 'pig'}\n",
      "{'cows', 'horse', 'pigs'}\n",
      "{'tables'}\n",
      "{'arm', 'chair', 'pencil'}\n"
     ]
    }
   ],
   "source": [
    "#Q5\n",
    "def pluralize(words):\n",
    "    result = []\n",
    "    for i in words:\n",
    "        if words.count(i) > 1:\n",
    "            result.append(i + \"s\")\n",
    "        else:\n",
    "            result.append(i)\n",
    "    return set(result)\n",
    "\n",
    "print(pluralize([\"cow\", \"pig\", \"cow\", \"cow\"]))\n",
    "print(pluralize([\"cow\", \"pig\", \"cow\", \"cow\", \"pig\", \"horse\"]))\n",
    "print(pluralize([\"table\", \"table\", \"table\"]))\n",
    "print(pluralize([\"chair\", \"pencil\", \"arm\"]))"
   ]
  },
  {
   "cell_type": "code",
   "execution_count": null,
   "id": "22585d3d",
   "metadata": {},
   "outputs": [],
   "source": []
  }
 ],
 "metadata": {
  "kernelspec": {
   "display_name": "Python 3",
   "language": "python",
   "name": "python3"
  },
  "language_info": {
   "codemirror_mode": {
    "name": "ipython",
    "version": 3
   },
   "file_extension": ".py",
   "mimetype": "text/x-python",
   "name": "python",
   "nbconvert_exporter": "python",
   "pygments_lexer": "ipython3",
   "version": "3.8.8"
  }
 },
 "nbformat": 4,
 "nbformat_minor": 5
}
