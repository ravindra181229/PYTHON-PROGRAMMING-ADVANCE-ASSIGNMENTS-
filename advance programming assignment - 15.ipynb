{
 "cells": [
  {
   "cell_type": "markdown",
   "id": "140275d8",
   "metadata": {},
   "source": [
    "# python advance programming assignment - 15"
   ]
  },
  {
   "cell_type": "code",
   "execution_count": 13,
   "id": "a067677a",
   "metadata": {},
   "outputs": [
    {
     "name": "stdout",
     "output_type": "stream",
     "text": [
      "True\n",
      "True\n",
      "True\n",
      "False\n"
     ]
    }
   ],
   "source": [
    "#Q1\n",
    "def anagram(string_input, array_words):\n",
    "    try:        \n",
    "        input_all_the_string = sorted(string_input.lower().replace(\" \", \"\"))\n",
    "        \n",
    "        for i in array_words:\n",
    "            temp_i = sorted(i.lower().replace(\" \", \"\"))\n",
    "\n",
    "            temp_lookup = [j for j in input_all_the_string]\n",
    "\n",
    "            for j in temp_i:\n",
    "                if j in temp_lookup:\n",
    "                    temp_lookup.remove(j)\n",
    "                else:\n",
    "                    return False\n",
    "            else:\n",
    "            \n",
    "                continue\n",
    "                \n",
    "        else:\n",
    "            return True\n",
    "        \n",
    "    except Exception as e:\n",
    "        print(e)\n",
    "        \n",
    "print(anagram(\"Justin Bieber\", [\"injures\", \"ebb\", \"it\"]))\n",
    "print(anagram(\"Natalie Portman\", [\"ornamental\", \"pita\"]))\n",
    "print(anagram(\"Chris Pratt\", [\"chirps\", \"rat\"]))\n",
    "print(anagram(\"Jeff Goldblum\", [\"jog\", \"meld\", \"bluffs\"]))"
   ]
  },
  {
   "cell_type": "code",
   "execution_count": 14,
   "id": "a9000052",
   "metadata": {},
   "outputs": [
    {
     "name": "stdout",
     "output_type": "stream",
     "text": [
      "[[{'name': 'c', 'score': 115, 'reputation': 30}], [{'name': 'b', 'score': 90, 'reputation': 40}], [{'name': 'a', 'score': 100, 'reputation': 20}]]\n",
      "[[{'name': 'c', 'score': 115, 'reputation': 30}], [{'name': 'b', 'score': 90, 'reputation': 40}], [{'name': 'd', 'score': 140, 'reputation': 10}], [{'name': 'a', 'score': 100, 'reputation': 20}]]\n"
     ]
    }
   ],
   "source": [
    "#Q2\n",
    "def leaderboards(array_input):\n",
    "    \n",
    "    try:        \n",
    "        array_list = []\n",
    "        for i in array_input:\n",
    "            i_true_score = i['score'] + 2 * i['reputation']\n",
    "            array_list.append([i_true_score, i])\n",
    "        \n",
    "        array_list = sorted(array_list, reverse=True)\n",
    "        \n",
    "        for i in range(len(array_list)):\n",
    "            array_list[i].pop(0)\n",
    "        \n",
    "        return array_list\n",
    "        \n",
    "    except Exception as e:\n",
    "        print(e)\n",
    "        \n",
    "print(leaderboards([\n",
    "  { \"name\": \"a\", \"score\": 100, \"reputation\": 20 },\n",
    "  { \"name\": \"b\", \"score\": 90, \"reputation\": 40 },\n",
    "  { \"name\": \"c\", \"score\": 115, \"reputation\": 30 },\n",
    "]))\n",
    "\n",
    "print(leaderboards([\n",
    "  { \"name\": \"a\", \"score\": 100, \"reputation\": 20 },\n",
    "  { \"name\": \"b\", \"score\": 90, \"reputation\": 40 },\n",
    "  { \"name\": \"c\", \"score\": 115, \"reputation\": 30 },\n",
    "  { \"name\": \"d\", \"score\": 140, \"reputation\": 10 },\n",
    "]) )"
   ]
  },
  {
   "cell_type": "code",
   "execution_count": 15,
   "id": "5a97dd98",
   "metadata": {},
   "outputs": [
    {
     "name": "stdout",
     "output_type": "stream",
     "text": [
      "-e---o--e-\n",
      "Tree\n",
      "P----n-r----\n",
      "-e---a--e-y--a----y---y-\n"
     ]
    }
   ],
   "source": [
    "#Q3\n",
    "def hangman(phrase, guess_letters):\n",
    "    \n",
    "    try:\n",
    "        \n",
    "        guessed_list = ['-' for i in range(len(phrase))]\n",
    "        \n",
    "        input_phrase_list = list(phrase.lower())\n",
    "        \n",
    "        for i in guess_letters:\n",
    "            if i in input_phrase_list:\n",
    "                indices_list = [j for j, char in enumerate(input_phrase_list) if char == i]\n",
    "                for j in indices_list:\n",
    "                    guessed_list[j] = i\n",
    "        \n",
    "        if not guessed_list[0] == '-':\n",
    "            guessed_list[0] = guessed_list[0].upper()\n",
    "        \n",
    "        return ''.join(guessed_list)\n",
    "        \n",
    "    except Exception as e:\n",
    "        print(e)\n",
    "        \n",
    "print(hangman(\"helicopter\", [\"o\", \"e\", \"s\"]))\n",
    "print(hangman(\"tree\", [\"r\", \"t\", \"e\"]))\n",
    "print(hangman(\"Python rules\", [\"a\", \"n\", \"p\", \"r\", \"z\"]))\n",
    "print(hangman(\"He's a very naughty boy!\", [\"e\", \"a\", \"y\"]))"
   ]
  },
  {
   "cell_type": "code",
   "execution_count": 28,
   "id": "e838f917",
   "metadata": {},
   "outputs": [
    {
     "name": "stdout",
     "output_type": "stream",
     "text": [
      "16\n",
      "32\n",
      "256\n"
     ]
    }
   ],
   "source": [
    "#Q4\n",
    "def max_collatz(input_number):\n",
    "    try:        \n",
    "        collatz_seq_list = []\n",
    "        \n",
    "        temp_number = input_number\n",
    "        \n",
    "        collatz_seq_list.append(temp_number)\n",
    "        \n",
    "        while not temp_number == 1:\n",
    "            if temp_number % 2 == 0:\n",
    "                temp_number = int(temp_number / 2)\n",
    "            else:\n",
    "                temp_number = (temp_number * 3) + 1\n",
    "\n",
    "            collatz_seq_list.append(temp_number)\n",
    "        \n",
    "        \n",
    "        return max(collatz_seq_list)\n",
    "        \n",
    "    except Exception as e:\n",
    "        print(e)\n",
    "        \n",
    "print(max_collatz(10))\n",
    "print(max_collatz(32))\n",
    "print(max_collatz(85))"
   ]
  },
  {
   "cell_type": "code",
   "execution_count": 38,
   "id": "bb4ba70f",
   "metadata": {},
   "outputs": [
    {
     "name": "stdout",
     "output_type": "stream",
     "text": [
      "[101, 23, 77, 5, 7]\n",
      "[444, 563, 789, 1, 2, 5, 9]\n",
      "[53219, 3772, 564, 32, 1]\n"
     ]
    }
   ],
   "source": [
    "#Q5\n",
    "def digit_sort(list_of_numbers):\n",
    "    \n",
    "    try:\n",
    "        temp_list1 = []\n",
    "        \n",
    "        for i in list_of_numbers:\n",
    "            temp_list1.append([len(str(i)), i])\n",
    "        \n",
    "        temp_list1 = sorted(temp_list1, reverse=True)\n",
    "        \n",
    "        temp_list2 = [ [] for i in range(temp_list1[0][0]) ]\n",
    "        \n",
    "        j = 0\n",
    "        temp_val = temp_list1[0][0]\n",
    "        for i in temp_list1:\n",
    "            if i[0] == temp_val:\n",
    "                temp_list2[j].append(i)\n",
    "                \n",
    "            else:\n",
    "                j += 1\n",
    "                temp_list2[j].append(i)\n",
    "                temp_val = i[0]\n",
    "                \n",
    "        for i in range(len(temp_list2)):\n",
    "            for j in range(len(temp_list2[i])):\n",
    "                temp_list2[i][j].pop(0)\n",
    "\n",
    "            for j in range(len(temp_list2[i])):\n",
    "                temp_list2[i][j] = temp_list2[i][j][0]\n",
    "\n",
    "\n",
    "            temp_list2[i] = sorted(temp_list2[i])\n",
    "        \n",
    "        return [item for sublist in temp_list2 for item in sublist]\n",
    "        \n",
    "    except Exception as e:\n",
    "        print(e)\n",
    "        \n",
    "        \n",
    "print(digit_sort([77, 23, 5, 7, 101]))\n",
    "print(digit_sort([1, 5, 9, 2, 789, 563, 444]))\n",
    "print(digit_sort([53219, 3772, 564, 32, 1]))"
   ]
  },
  {
   "cell_type": "code",
   "execution_count": null,
   "id": "72dae342",
   "metadata": {},
   "outputs": [],
   "source": []
  }
 ],
 "metadata": {
  "kernelspec": {
   "display_name": "Python 3",
   "language": "python",
   "name": "python3"
  },
  "language_info": {
   "codemirror_mode": {
    "name": "ipython",
    "version": 3
   },
   "file_extension": ".py",
   "mimetype": "text/x-python",
   "name": "python",
   "nbconvert_exporter": "python",
   "pygments_lexer": "ipython3",
   "version": "3.8.8"
  }
 },
 "nbformat": 4,
 "nbformat_minor": 5
}
